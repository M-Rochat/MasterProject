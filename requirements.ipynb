{
 "cells": [
  {
   "cell_type": "code",
   "execution_count": 4,
   "id": "e966a652-1f02-4b7a-b1dd-bc85930d31b2",
   "metadata": {},
   "outputs": [
    {
     "name": "stdout",
     "output_type": "stream",
     "text": [
      "Collecting en_core_web_sm@ https://github.com/explosion/spacy-models/releases/download/en_core_web_sm-3.4.0/en_core_web_sm-3.4.0-py3-none-any.whl\n",
      "  Downloading https://github.com/explosion/spacy-models/releases/download/en_core_web_sm-3.4.0/en_core_web_sm-3.4.0-py3-none-any.whl (12.8 MB)\n",
      "\u001b[K     |################################| 12.8 MB 1.1 MB/s eta 0:00:01\n",
      "\u001b[?25hRequirement already satisfied: datasets in /root/anaconda3/lib/python3.9/site-packages (from -r requirements.txt (line 1)) (2.7.1)\n",
      "Requirement already satisfied: evaluate in /root/anaconda3/lib/python3.9/site-packages (from -r requirements.txt (line 2)) (0.3.0)\n",
      "Requirement already satisfied: transformers in /root/anaconda3/lib/python3.9/site-packages (from -r requirements.txt (line 3)) (4.24.0)\n",
      "Collecting accelerate\n",
      "  Downloading accelerate-0.14.0-py3-none-any.whl (175 kB)\n",
      "\u001b[K     |################################| 175 kB 6.1 MB/s eta 0:00:01\n",
      "\u001b[?25hRequirement already satisfied: pandas in /root/anaconda3/lib/python3.9/site-packages (from -r requirements.txt (line 5)) (1.4.2)\n",
      "Requirement already satisfied: inflect in /root/anaconda3/lib/python3.9/site-packages (from -r requirements.txt (line 6)) (6.0.2)\n",
      "Requirement already satisfied: spacy in /root/anaconda3/lib/python3.9/site-packages (from -r requirements.txt (line 7)) (3.4.3)\n",
      "Collecting argparse\n",
      "  Using cached argparse-1.4.0-py2.py3-none-any.whl (23 kB)\n",
      "Requirement already satisfied: sklearn in /root/anaconda3/lib/python3.9/site-packages (from -r requirements.txt (line 10)) (0.0.post1)\n",
      "Requirement already satisfied: fsspec[http]>=2021.11.1 in /root/anaconda3/lib/python3.9/site-packages (from datasets->-r requirements.txt (line 1)) (2022.2.0)\n",
      "Requirement already satisfied: numpy>=1.17 in /root/anaconda3/lib/python3.9/site-packages (from datasets->-r requirements.txt (line 1)) (1.21.5)\n",
      "Requirement already satisfied: multiprocess in /root/anaconda3/lib/python3.9/site-packages (from datasets->-r requirements.txt (line 1)) (0.70.14)\n",
      "Requirement already satisfied: responses<0.19 in /root/anaconda3/lib/python3.9/site-packages (from datasets->-r requirements.txt (line 1)) (0.18.0)\n",
      "Requirement already satisfied: pyyaml>=5.1 in /root/anaconda3/lib/python3.9/site-packages (from datasets->-r requirements.txt (line 1)) (6.0)\n",
      "Requirement already satisfied: dill<0.3.7 in /root/anaconda3/lib/python3.9/site-packages (from datasets->-r requirements.txt (line 1)) (0.3.6)\n",
      "Requirement already satisfied: xxhash in /root/anaconda3/lib/python3.9/site-packages (from datasets->-r requirements.txt (line 1)) (3.1.0)\n",
      "Requirement already satisfied: tqdm>=4.62.1 in /root/anaconda3/lib/python3.9/site-packages (from datasets->-r requirements.txt (line 1)) (4.64.0)\n",
      "Requirement already satisfied: pyarrow>=6.0.0 in /root/anaconda3/lib/python3.9/site-packages (from datasets->-r requirements.txt (line 1)) (10.0.1)\n",
      "Requirement already satisfied: requests>=2.19.0 in /root/anaconda3/lib/python3.9/site-packages (from datasets->-r requirements.txt (line 1)) (2.27.1)\n",
      "Requirement already satisfied: aiohttp in /root/anaconda3/lib/python3.9/site-packages (from datasets->-r requirements.txt (line 1)) (3.8.1)\n",
      "Requirement already satisfied: huggingface-hub<1.0.0,>=0.2.0 in /root/anaconda3/lib/python3.9/site-packages (from datasets->-r requirements.txt (line 1)) (0.11.0)\n",
      "Requirement already satisfied: packaging in /root/anaconda3/lib/python3.9/site-packages (from datasets->-r requirements.txt (line 1)) (21.3)\n",
      "Requirement already satisfied: tokenizers!=0.11.3,<0.14,>=0.11.1 in /root/anaconda3/lib/python3.9/site-packages (from transformers->-r requirements.txt (line 3)) (0.13.2)\n",
      "Requirement already satisfied: filelock in /root/anaconda3/lib/python3.9/site-packages (from transformers->-r requirements.txt (line 3)) (3.6.0)\n",
      "Requirement already satisfied: regex!=2019.12.17 in /root/anaconda3/lib/python3.9/site-packages (from transformers->-r requirements.txt (line 3)) (2022.3.15)\n",
      "Requirement already satisfied: torch>=1.4.0 in /root/anaconda3/lib/python3.9/site-packages (from accelerate->-r requirements.txt (line 4)) (1.13.0)\n",
      "Requirement already satisfied: psutil in /root/anaconda3/lib/python3.9/site-packages (from accelerate->-r requirements.txt (line 4)) (5.8.0)\n",
      "Requirement already satisfied: python-dateutil>=2.8.1 in /root/anaconda3/lib/python3.9/site-packages (from pandas->-r requirements.txt (line 5)) (2.8.2)\n",
      "Requirement already satisfied: pytz>=2020.1 in /root/anaconda3/lib/python3.9/site-packages (from pandas->-r requirements.txt (line 5)) (2021.3)\n",
      "Requirement already satisfied: pydantic>=1.9.1 in /root/anaconda3/lib/python3.9/site-packages (from inflect->-r requirements.txt (line 6)) (1.10.2)\n",
      "Requirement already satisfied: typer<0.8.0,>=0.3.0 in /root/anaconda3/lib/python3.9/site-packages (from spacy->-r requirements.txt (line 7)) (0.7.0)\n",
      "Requirement already satisfied: cymem<2.1.0,>=2.0.2 in /root/anaconda3/lib/python3.9/site-packages (from spacy->-r requirements.txt (line 7)) (2.0.7)\n",
      "Requirement already satisfied: spacy-loggers<2.0.0,>=1.0.0 in /root/anaconda3/lib/python3.9/site-packages (from spacy->-r requirements.txt (line 7)) (1.0.3)\n",
      "Requirement already satisfied: murmurhash<1.1.0,>=0.28.0 in /root/anaconda3/lib/python3.9/site-packages (from spacy->-r requirements.txt (line 7)) (1.0.9)\n",
      "Requirement already satisfied: spacy-legacy<3.1.0,>=3.0.10 in /root/anaconda3/lib/python3.9/site-packages (from spacy->-r requirements.txt (line 7)) (3.0.10)\n",
      "Requirement already satisfied: preshed<3.1.0,>=3.0.2 in /root/anaconda3/lib/python3.9/site-packages (from spacy->-r requirements.txt (line 7)) (3.0.8)\n",
      "Requirement already satisfied: srsly<3.0.0,>=2.4.3 in /root/anaconda3/lib/python3.9/site-packages (from spacy->-r requirements.txt (line 7)) (2.4.5)\n",
      "Requirement already satisfied: wasabi<1.1.0,>=0.9.1 in /root/anaconda3/lib/python3.9/site-packages (from spacy->-r requirements.txt (line 7)) (0.10.1)\n",
      "Requirement already satisfied: setuptools in /root/anaconda3/lib/python3.9/site-packages (from spacy->-r requirements.txt (line 7)) (61.2.0)\n",
      "Requirement already satisfied: catalogue<2.1.0,>=2.0.6 in /root/anaconda3/lib/python3.9/site-packages (from spacy->-r requirements.txt (line 7)) (2.0.8)\n",
      "Requirement already satisfied: thinc<8.2.0,>=8.1.0 in /root/anaconda3/lib/python3.9/site-packages (from spacy->-r requirements.txt (line 7)) (8.1.5)\n",
      "Requirement already satisfied: pathy>=0.3.5 in /root/anaconda3/lib/python3.9/site-packages (from spacy->-r requirements.txt (line 7)) (0.10.0)\n",
      "Requirement already satisfied: langcodes<4.0.0,>=3.2.0 in /root/anaconda3/lib/python3.9/site-packages (from spacy->-r requirements.txt (line 7)) (3.3.0)\n",
      "Requirement already satisfied: jinja2 in /root/anaconda3/lib/python3.9/site-packages (from spacy->-r requirements.txt (line 7)) (2.11.3)\n",
      "Requirement already satisfied: typing-extensions>=3.7.4.3 in /root/anaconda3/lib/python3.9/site-packages (from huggingface-hub<1.0.0,>=0.2.0->datasets->-r requirements.txt (line 1)) (4.1.1)\n",
      "Requirement already satisfied: pyparsing!=3.0.5,>=2.0.2 in /root/anaconda3/lib/python3.9/site-packages (from packaging->datasets->-r requirements.txt (line 1)) (3.0.4)\n",
      "Requirement already satisfied: smart-open<6.0.0,>=5.2.1 in /root/anaconda3/lib/python3.9/site-packages (from pathy>=0.3.5->spacy->-r requirements.txt (line 7)) (5.2.1)\n",
      "Requirement already satisfied: six>=1.5 in /root/anaconda3/lib/python3.9/site-packages (from python-dateutil>=2.8.1->pandas->-r requirements.txt (line 5)) (1.16.0)\n",
      "Requirement already satisfied: certifi>=2017.4.17 in /root/anaconda3/lib/python3.9/site-packages (from requests>=2.19.0->datasets->-r requirements.txt (line 1)) (2022.9.24)\n",
      "Requirement already satisfied: urllib3<1.27,>=1.21.1 in /root/anaconda3/lib/python3.9/site-packages (from requests>=2.19.0->datasets->-r requirements.txt (line 1)) (1.26.9)\n",
      "Requirement already satisfied: idna<4,>=2.5 in /root/anaconda3/lib/python3.9/site-packages (from requests>=2.19.0->datasets->-r requirements.txt (line 1)) (3.3)\n",
      "Requirement already satisfied: charset-normalizer~=2.0.0 in /root/anaconda3/lib/python3.9/site-packages (from requests>=2.19.0->datasets->-r requirements.txt (line 1)) (2.0.4)\n",
      "Requirement already satisfied: confection<1.0.0,>=0.0.1 in /root/anaconda3/lib/python3.9/site-packages (from thinc<8.2.0,>=8.1.0->spacy->-r requirements.txt (line 7)) (0.0.3)\n",
      "Requirement already satisfied: blis<0.8.0,>=0.7.8 in /root/anaconda3/lib/python3.9/site-packages (from thinc<8.2.0,>=8.1.0->spacy->-r requirements.txt (line 7)) (0.7.9)\n",
      "Requirement already satisfied: click<9.0.0,>=7.1.1 in /root/anaconda3/lib/python3.9/site-packages (from typer<0.8.0,>=0.3.0->spacy->-r requirements.txt (line 7)) (8.0.4)\n",
      "Requirement already satisfied: attrs>=17.3.0 in /root/anaconda3/lib/python3.9/site-packages (from aiohttp->datasets->-r requirements.txt (line 1)) (21.4.0)\n",
      "Requirement already satisfied: frozenlist>=1.1.1 in /root/anaconda3/lib/python3.9/site-packages (from aiohttp->datasets->-r requirements.txt (line 1)) (1.2.0)\n",
      "Requirement already satisfied: yarl<2.0,>=1.0 in /root/anaconda3/lib/python3.9/site-packages (from aiohttp->datasets->-r requirements.txt (line 1)) (1.6.3)\n",
      "Requirement already satisfied: multidict<7.0,>=4.5 in /root/anaconda3/lib/python3.9/site-packages (from aiohttp->datasets->-r requirements.txt (line 1)) (5.2.0)\n",
      "Requirement already satisfied: async-timeout<5.0,>=4.0.0a3 in /root/anaconda3/lib/python3.9/site-packages (from aiohttp->datasets->-r requirements.txt (line 1)) (4.0.1)\n",
      "Requirement already satisfied: aiosignal>=1.1.2 in /root/anaconda3/lib/python3.9/site-packages (from aiohttp->datasets->-r requirements.txt (line 1)) (1.2.0)\n",
      "Requirement already satisfied: MarkupSafe>=0.23 in /root/anaconda3/lib/python3.9/site-packages (from jinja2->spacy->-r requirements.txt (line 7)) (2.0.1)\n",
      "Installing collected packages: argparse, accelerate\n",
      "Successfully installed accelerate-0.14.0 argparse-1.4.0\n",
      "\u001b[33mWARNING: Running pip as the 'root' user can result in broken permissions and conflicting behaviour with the system package manager. It is recommended to use a virtual environment instead: https://pip.pypa.io/warnings/venv\u001b[0m\n"
     ]
    }
   ],
   "source": [
    "!pip install -r requirements.txt"
   ]
  },
  {
   "cell_type": "code",
   "execution_count": null,
   "id": "0260fa23-afae-461e-bfca-0321e9f116df",
   "metadata": {},
   "outputs": [],
   "source": []
  }
 ],
 "metadata": {
  "kernelspec": {
   "display_name": "Python 3 (ipykernel)",
   "language": "python",
   "name": "python3"
  },
  "language_info": {
   "codemirror_mode": {
    "name": "ipython",
    "version": 3
   },
   "file_extension": ".py",
   "mimetype": "text/x-python",
   "name": "python",
   "nbconvert_exporter": "python",
   "pygments_lexer": "ipython3",
   "version": "3.9.12"
  }
 },
 "nbformat": 4,
 "nbformat_minor": 5
}
