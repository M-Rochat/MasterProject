{
 "cells": [
  {
   "cell_type": "markdown",
   "id": "b0fede98-41c8-4073-9d06-b840ac2ece0a",
   "metadata": {},
   "source": [
    "# Setup"
   ]
  },
  {
   "cell_type": "code",
   "execution_count": 1,
   "id": "c27ca958-9576-45b0-9998-ea983e622807",
   "metadata": {},
   "outputs": [],
   "source": [
    "import os\n",
    "import torch\n",
    "from torch import cuda\n",
    "from torch.utils.data import TensorDataset, DataLoader\n",
    "import evaluate\n",
    "from transformers import Seq2SeqTrainer, DataCollatorForSeq2Seq, AutoModelForSeq2SeqLM, AutoTokenizer, Seq2SeqTrainingArguments, pipeline, AdamW, get_scheduler\n",
    "from argparse import ArgumentParser\n",
    "import numpy as np\n",
    "from datasets import load_dataset, DownloadMode\n",
    "from tqdm.auto import tqdm\n",
    "from script.rec_adam import RecAdam"
   ]
  },
  {
   "cell_type": "markdown",
   "id": "035d4171-a787-4048-be3a-4b224cc5114f",
   "metadata": {
    "tags": []
   },
   "source": [
    "## model + tokenizer"
   ]
  },
  {
   "cell_type": "code",
   "execution_count": 2,
   "id": "12a9cb63-f852-4990-b0c1-52d865b62193",
   "metadata": {
    "tags": []
   },
   "outputs": [
    {
     "name": "stdout",
     "output_type": "stream",
     "text": [
      "Model + tokenizer\n",
      "Model size: 139.4M parameters\n"
     ]
    }
   ],
   "source": [
    "model_name='facebook/bart-base'\n",
    "#model_name='gpt2'\n",
    "#model_name= 'UMA_softmax_full_freeze/Physical'\n",
    "tokenizer_name = 'facebook/bart-base'\n",
    "\n",
    "device='cuda'\n",
    "tokenizer = AutoTokenizer.from_pretrained(tokenizer_name)\n",
    "tokenizer.pad_token = \"[PAD]\"\n",
    "model = AutoModelForSeq2SeqLM.from_pretrained(model_name)\n",
    "model.to(device)\n",
    "print(\"Model + tokenizer\")\n",
    "model_size = sum(t.numel() for t in model.parameters())\n",
    "print(f\"Model size: {model_size/1000**2:.1f}M parameters\")"
   ]
  },
  {
   "cell_type": "code",
   "execution_count": null,
   "id": "26af0fa2-6ed9-4330-995d-9611e3263aff",
   "metadata": {},
   "outputs": [],
   "source": [
    "from torch import nn \n",
    "def init_bert_weights(module):\n",
    "    \"\"\"Initialize the weights.\"\"\"\n",
    "    if isinstance(module, (nn.Linear, nn.Embedding)):\n",
    "        # std defaults to 0.02, this might need to be changed\n",
    "        module.weight.data.normal_(mean=0.0, std=0.002)#was 0.02 #0.002 with softmax\n",
    "    elif isinstance(module, nn.LayerNorm):\n",
    "        module.bias.data.zero_()\n",
    "        module.weight.data.fill_(1.0)\n",
    "    if isinstance(module, nn.Linear) and module.bias is not None:\n",
    "        module.bias.data.zero_()\n",
    "\n",
    "# Freeze model except head and adapters parameters\n",
    "for param in model.model.parameters():\n",
    "    param.requires_grad = False\n",
    "for param in model.lm_head.parameters():\n",
    "    param.requires_grad = False\n",
    "for layer_index in range(6):\n",
    "    for coder in model.model.encoder, model.model.decoder:\n",
    "        layer = coder.layers[layer_index]\n",
    "        for part in [layer.adapters, layer.linears]:\n",
    "            for param in part.parameters():\n",
    "                param.requires_grad = True\n",
    "            part.apply(init_bert_weights)\n",
    "        #layer.linear.weight.data.normal_(mean=0.0, std= 0.05)\n",
    "        \n",
    "                \n",
    "                \n",
    "                \n"
   ]
  },
  {
   "cell_type": "markdown",
   "id": "8b06c64c-f93a-4cab-8f53-fc2d7e112cfa",
   "metadata": {},
   "source": [
    "## Train dataset"
   ]
  },
  {
   "cell_type": "code",
   "execution_count": 3,
   "id": "efb1d1c1-7dec-4096-9c21-d0c192f17fb9",
   "metadata": {
    "tags": []
   },
   "outputs": [
    {
     "name": "stderr",
     "output_type": "stream",
     "text": [
      "Using custom data configuration default-f728267a53beffc2\n",
      "Found cached dataset json (/root/.cache/huggingface/datasets/json/default-f728267a53beffc2/0.0.0/0f7e3662623656454fcd2b650f34e886a7db4b9104504885bd462096cc7a9f51)\n"
     ]
    },
    {
     "data": {
      "application/vnd.jupyter.widget-view+json": {
       "model_id": "7b40267875b841a0a5215c375ea611d1",
       "version_major": 2,
       "version_minor": 0
      },
      "text/plain": [
       "  0%|          | 0/1 [00:00<?, ?it/s]"
      ]
     },
     "metadata": {},
     "output_type": "display_data"
    },
    {
     "name": "stderr",
     "output_type": "stream",
     "text": [
      "Using custom data configuration default-70c0d86cfc6bffa9\n",
      "Found cached dataset json (/root/.cache/huggingface/datasets/json/default-70c0d86cfc6bffa9/0.0.0/0f7e3662623656454fcd2b650f34e886a7db4b9104504885bd462096cc7a9f51)\n"
     ]
    },
    {
     "data": {
      "application/vnd.jupyter.widget-view+json": {
       "model_id": "0dae018e44ff4afe9f36aa1ee37a92d6",
       "version_major": 2,
       "version_minor": 0
      },
      "text/plain": [
       "  0%|          | 0/1 [00:00<?, ?it/s]"
      ]
     },
     "metadata": {},
     "output_type": "display_data"
    },
    {
     "name": "stderr",
     "output_type": "stream",
     "text": [
      "Using custom data configuration default-b455e0cad2a443ca\n",
      "Found cached dataset json (/root/.cache/huggingface/datasets/json/default-b455e0cad2a443ca/0.0.0/0f7e3662623656454fcd2b650f34e886a7db4b9104504885bd462096cc7a9f51)\n"
     ]
    },
    {
     "data": {
      "application/vnd.jupyter.widget-view+json": {
       "model_id": "2a058c1829ed4d8e9de694a9095884e3",
       "version_major": 2,
       "version_minor": 0
      },
      "text/plain": [
       "  0%|          | 0/1 [00:00<?, ?it/s]"
      ]
     },
     "metadata": {},
     "output_type": "display_data"
    },
    {
     "name": "stderr",
     "output_type": "stream",
     "text": [
      "Using custom data configuration default-afbb1536dcae3f27\n",
      "Found cached dataset json (/root/.cache/huggingface/datasets/json/default-afbb1536dcae3f27/0.0.0/0f7e3662623656454fcd2b650f34e886a7db4b9104504885bd462096cc7a9f51)\n"
     ]
    },
    {
     "data": {
      "application/vnd.jupyter.widget-view+json": {
       "model_id": "215fff8625744d75a693cf8ace0f1ac9",
       "version_major": 2,
       "version_minor": 0
      },
      "text/plain": [
       "  0%|          | 0/1 [00:00<?, ?it/s]"
      ]
     },
     "metadata": {},
     "output_type": "display_data"
    }
   ],
   "source": [
    "dataset_dir= 'modified_dataset/'\n",
    "train_dict={}\n",
    "relations = ['Physical','Event', 'Intent','Reaction']\n",
    "for relation in relations:\n",
    "    train_dict[relation] = load_dataset('json', data_files={'train': f'{dataset_dir}{relation} train.json'}, download_mode= DownloadMode.REUSE_DATASET_IF_EXISTS)"
   ]
  },
  {
   "cell_type": "code",
   "execution_count": 4,
   "id": "91dd18cf-24fc-46a3-a8cb-a484c9125072",
   "metadata": {},
   "outputs": [
    {
     "name": "stderr",
     "output_type": "stream",
     "text": [
      "Loading cached processed dataset at /root/.cache/huggingface/datasets/json/default-f728267a53beffc2/0.0.0/0f7e3662623656454fcd2b650f34e886a7db4b9104504885bd462096cc7a9f51/cache-ef26b901db75d16a.arrow\n",
      "Loading cached processed dataset at /root/.cache/huggingface/datasets/json/default-70c0d86cfc6bffa9/0.0.0/0f7e3662623656454fcd2b650f34e886a7db4b9104504885bd462096cc7a9f51/cache-2e6a3fb87ecd2eed.arrow\n",
      "Loading cached processed dataset at /root/.cache/huggingface/datasets/json/default-b455e0cad2a443ca/0.0.0/0f7e3662623656454fcd2b650f34e886a7db4b9104504885bd462096cc7a9f51/cache-e7c9f649fffb48db.arrow\n",
      "Loading cached processed dataset at /root/.cache/huggingface/datasets/json/default-afbb1536dcae3f27/0.0.0/0f7e3662623656454fcd2b650f34e886a7db4b9104504885bd462096cc7a9f51/cache-e850e3a6af5af9c9.arrow\n"
     ]
    }
   ],
   "source": [
    "max_seq_length = 64\n",
    "def preprocess_function(examples):\n",
    "    model_inputs = tokenizer(examples['head'], text_target=examples['tail'], max_length=max_seq_length,\n",
    "                             truncation=True)\n",
    "    return model_inputs\n",
    "\n",
    "train_tok_dict={}\n",
    "for relation in relations:\n",
    "    train_tok_dict[relation] = train_dict[relation].map(\n",
    "        preprocess_function,\n",
    "        batched=True,  # num_proc=num_proc,\n",
    "        remove_columns=['head', 'tail'],\n",
    "        load_from_cache_file=True\n",
    "    )"
   ]
  },
  {
   "cell_type": "markdown",
   "id": "478dd527-0623-449a-8f89-6b92ec215b64",
   "metadata": {
    "tags": []
   },
   "source": [
    "## Test dataset"
   ]
  },
  {
   "cell_type": "code",
   "execution_count": null,
   "id": "ee6c3673-9cc8-4466-8208-2b3ed526e0f5",
   "metadata": {},
   "outputs": [],
   "source": [
    "dataset_dir= 'modified_dataset/'\n",
    "test_dict={}\n",
    "relations = ['Physical','Event', 'Intent','Reaction']\n",
    "for relation in relations:\n",
    "    test_dict[relation] = load_dataset('json', data_files={'test': f'{dataset_dir}{relation} test.json'}, download_mode= DownloadMode.REUSE_DATASET_IF_EXISTS)\n",
    "\n",
    "max_seq_length = 64\n",
    "def preprocess_function(examples):\n",
    "    examples['tail']=['\\t'.join(x) for x in examples['tail']]\n",
    "    return examples\n",
    "\n",
    "for relation in relations:\n",
    "    test_dict[relation] = test_dict[relation].map(\n",
    "        preprocess_function,\n",
    "        batched=True,\n",
    "        load_from_cache_file=True\n",
    "    )"
   ]
  },
  {
   "cell_type": "markdown",
   "id": "0c1ecaa1-a362-4e3e-bd02-4e1f1675591c",
   "metadata": {
    "tags": []
   },
   "source": [
    "## Dev dataset"
   ]
  },
  {
   "cell_type": "code",
   "execution_count": 5,
   "id": "69a97747-b645-46e8-91b3-5313fd173946",
   "metadata": {},
   "outputs": [
    {
     "name": "stderr",
     "output_type": "stream",
     "text": [
      "Using custom data configuration default-ebc21b7d7f5bf37e\n",
      "Found cached dataset json (/root/.cache/huggingface/datasets/json/default-ebc21b7d7f5bf37e/0.0.0/0f7e3662623656454fcd2b650f34e886a7db4b9104504885bd462096cc7a9f51)\n"
     ]
    },
    {
     "data": {
      "application/vnd.jupyter.widget-view+json": {
       "model_id": "745ceab5011c4901b6c11e99ef3beae3",
       "version_major": 2,
       "version_minor": 0
      },
      "text/plain": [
       "  0%|          | 0/1 [00:00<?, ?it/s]"
      ]
     },
     "metadata": {},
     "output_type": "display_data"
    },
    {
     "name": "stderr",
     "output_type": "stream",
     "text": [
      "Using custom data configuration default-b188c89b504a4a69\n",
      "Found cached dataset json (/root/.cache/huggingface/datasets/json/default-b188c89b504a4a69/0.0.0/0f7e3662623656454fcd2b650f34e886a7db4b9104504885bd462096cc7a9f51)\n"
     ]
    },
    {
     "data": {
      "application/vnd.jupyter.widget-view+json": {
       "model_id": "21ac49f415f84ecbbcb0816156a7ff42",
       "version_major": 2,
       "version_minor": 0
      },
      "text/plain": [
       "  0%|          | 0/1 [00:00<?, ?it/s]"
      ]
     },
     "metadata": {},
     "output_type": "display_data"
    },
    {
     "name": "stderr",
     "output_type": "stream",
     "text": [
      "Using custom data configuration default-959376889ff22667\n",
      "Found cached dataset json (/root/.cache/huggingface/datasets/json/default-959376889ff22667/0.0.0/0f7e3662623656454fcd2b650f34e886a7db4b9104504885bd462096cc7a9f51)\n"
     ]
    },
    {
     "data": {
      "application/vnd.jupyter.widget-view+json": {
       "model_id": "364f892667a44900b4616951d50cc1ec",
       "version_major": 2,
       "version_minor": 0
      },
      "text/plain": [
       "  0%|          | 0/1 [00:00<?, ?it/s]"
      ]
     },
     "metadata": {},
     "output_type": "display_data"
    },
    {
     "name": "stderr",
     "output_type": "stream",
     "text": [
      "Using custom data configuration default-eecd38dab30452cf\n",
      "Found cached dataset json (/root/.cache/huggingface/datasets/json/default-eecd38dab30452cf/0.0.0/0f7e3662623656454fcd2b650f34e886a7db4b9104504885bd462096cc7a9f51)\n"
     ]
    },
    {
     "data": {
      "application/vnd.jupyter.widget-view+json": {
       "model_id": "00253cffad3746d4a604c2c4319abb21",
       "version_major": 2,
       "version_minor": 0
      },
      "text/plain": [
       "  0%|          | 0/1 [00:00<?, ?it/s]"
      ]
     },
     "metadata": {},
     "output_type": "display_data"
    },
    {
     "name": "stderr",
     "output_type": "stream",
     "text": [
      "Loading cached processed dataset at /root/.cache/huggingface/datasets/json/default-ebc21b7d7f5bf37e/0.0.0/0f7e3662623656454fcd2b650f34e886a7db4b9104504885bd462096cc7a9f51/cache-026f41029d51b7d0.arrow\n",
      "Loading cached processed dataset at /root/.cache/huggingface/datasets/json/default-b188c89b504a4a69/0.0.0/0f7e3662623656454fcd2b650f34e886a7db4b9104504885bd462096cc7a9f51/cache-ef2dd232c8e4124a.arrow\n",
      "Loading cached processed dataset at /root/.cache/huggingface/datasets/json/default-959376889ff22667/0.0.0/0f7e3662623656454fcd2b650f34e886a7db4b9104504885bd462096cc7a9f51/cache-ec3ccea9f1abffb0.arrow\n",
      "Loading cached processed dataset at /root/.cache/huggingface/datasets/json/default-eecd38dab30452cf/0.0.0/0f7e3662623656454fcd2b650f34e886a7db4b9104504885bd462096cc7a9f51/cache-7b41803dcf05c203.arrow\n"
     ]
    }
   ],
   "source": [
    "dataset_dir= 'modified_dataset/'\n",
    "dev_dict={}\n",
    "relations = ['Physical','Event', 'Intent','Reaction']\n",
    "for relation in relations:\n",
    "    dev_dict[relation] = load_dataset('json', data_files={'dev': f'{dataset_dir}{relation} dev.json'}, download_mode= DownloadMode.REUSE_DATASET_IF_EXISTS)\n",
    "\n",
    "max_seq_length = 64\n",
    "def preprocess_function(examples):\n",
    "    examples['tail']=['\\t'.join(x) for x in examples['tail']]\n",
    "    return examples\n",
    "\n",
    "for relation in relations:\n",
    "    dev_dict[relation] = dev_dict[relation].map(\n",
    "        preprocess_function,\n",
    "        batched=True,\n",
    "        load_from_cache_file=True\n",
    "    )"
   ]
  },
  {
   "cell_type": "markdown",
   "id": "ec2bb024-a32c-406a-98c1-b540ce912a16",
   "metadata": {},
   "source": [
    "## generation example"
   ]
  },
  {
   "cell_type": "code",
   "execution_count": 6,
   "id": "b81214da-f2fe-4d8f-92df-95236f066e1e",
   "metadata": {
    "tags": []
   },
   "outputs": [
    {
     "name": "stderr",
     "output_type": "stream",
     "text": [
      "/root/ml/MasterProject/transformers/generation/utils.py:1220: UserWarning: Neither `max_length` nor `max_new_tokens` has been set, `max_length` will default to 20 (`generation_config.max_length`). Controlling `max_length` via the config is deprecated and `max_length` will be removed from the config in v5 of Transformers -- we recommend using `max_new_tokens` to control the maximum length of the generation.\n",
      "  warnings.warn(\n"
     ]
    },
    {
     "name": "stdout",
     "output_type": "stream",
     "text": [
      "Physical\n",
      "['a gambling money can be used to']\n",
      "['a gambling money can be used to']\n",
      "labels\n",
      "[['bet on race', 'make the rent', 'lose on a bet', 'bet on horse races', 'bet on cock fights', 'bet on a Horse', 'pay a bookie']]\n",
      "Event\n",
      "['PersonX plays dumb. This would not happen if']\n",
      "['PersonX plays dumb. This would not happen if']\n",
      "labels\n",
      "[[\"PersonY sees through PersonX's lies too easily.\", 'PersonY has hooked PersonX up to a polygraph machine.', 'PersonX has too much integrity.', 'PersonX is far too intelligent to play dumb.', \"PersonX deson't want to be embarrassed.\", 'PersonX is the boss.']]\n",
      "Intent\n",
      "[\"PersonX puts it on PersonY's wrist. After, PersonX will want to\"]\n",
      "[\"PersonX puts it on PersonY's wrist. After, PersonX will want to\"]\n",
      "labels\n",
      "[['clasp the bracelet on', 'clasp the watch on', ' check the time', ' finish getting ready']]\n",
      "Reaction\n",
      "[\"PersonX feels PersonY's hands. The effect on PersonX will be that PersonX\"]\n",
      "[\"PersonX feels PersonY's hands. The effect on PersonX will be that Person\"]\n",
      "labels\n",
      "[['makes contact', 'gives a touch', 'GETS ANGRY', 'SARROW']]\n"
     ]
    }
   ],
   "source": [
    "for relation in relations:\n",
    "    test_dataloader = DataLoader(\n",
    "        test_dict[relation]['test'],\n",
    "        batch_size=1,\n",
    "    )\n",
    "    for batch in test_dataloader:\n",
    "        input_ids = tokenizer(batch['head'], padding=True, return_tensors=\"pt\").to(device)\n",
    "        generations = model.generate(**input_ids)\n",
    "        print(f\"{relation}\")\n",
    "        print(batch['head'])\n",
    "        print(tokenizer.batch_decode(generations, skip_special_tokens=True))\n",
    "        print('labels')\n",
    "        print([s.split('\\t') for s in batch['tail']])\n",
    "        break"
   ]
  },
  {
   "cell_type": "code",
   "execution_count": null,
   "id": "f42656c7-f50e-4c2d-b3de-168e9c8552f3",
   "metadata": {
    "tags": []
   },
   "outputs": [],
   "source": [
    "model.model"
   ]
  },
  {
   "cell_type": "code",
   "execution_count": null,
   "id": "b1da8a9e-dfb1-409f-b7ae-b09b2e3c5ccd",
   "metadata": {},
   "outputs": [],
   "source": [
    "#model.model.encoder.layers[1].adapters[0].up_linear.weight.data.normal_(mean=0.0, std=0.001)\n",
    "model.model.encoder.layers[1].adapters[0].up_linear.weight"
   ]
  },
  {
   "cell_type": "code",
   "execution_count": null,
   "id": "f050cf24-73f1-4c0e-acb5-77769b84bf6a",
   "metadata": {},
   "outputs": [],
   "source": [
    "model.model.encoder.layers[1]"
   ]
  },
  {
   "cell_type": "code",
   "execution_count": null,
   "id": "d28a20b5-bfdd-45b9-b6c9-2838c07d082e",
   "metadata": {},
   "outputs": [],
   "source": [
    "print(model.model.encoder.layers[2].linear.weight)"
   ]
  },
  {
   "cell_type": "code",
   "execution_count": null,
   "id": "c15cf163-6210-497b-9a09-3d5ed7374c59",
   "metadata": {},
   "outputs": [],
   "source": [
    "optimizer = AdamW(model.parameters(), lr=2e-5)"
   ]
  },
  {
   "cell_type": "code",
   "execution_count": null,
   "id": "127218c9-b4dd-45c3-8263-954b151319d6",
   "metadata": {},
   "outputs": [],
   "source": [
    "optimizer.zero_grad()\n",
    "data_collator = DataCollatorForSeq2Seq(\n",
    "        tokenizer,\n",
    "        model=model\n",
    "    )\n",
    "\n",
    "train_dataloader = DataLoader(\n",
    "    train_tok_dict['Reaction']['train'],\n",
    "    shuffle=True,\n",
    "    collate_fn=data_collator,\n",
    "    batch_size=1,\n",
    ")\n",
    "\n",
    "model.train()\n",
    "for batch in train_dataloader:\n",
    "    print(batch)\n",
    "    batch = {k: v.to(device) for k, v in batch.items()}\n",
    "    outputs = model(**batch)\n",
    "    loss = outputs.loss\n",
    "    loss.backward()\n",
    "    break\n",
    "\n",
    "#optimizer.zero_grad()"
   ]
  },
  {
   "cell_type": "code",
   "execution_count": null,
   "id": "0082ed13-f22a-4870-b83c-2e751705c537",
   "metadata": {},
   "outputs": [],
   "source": [
    "from entmax import sparsemax\n",
    "from torch import nn\n",
    "for relation in relations:\n",
    "    print(relation)\n",
    "    item =test_dict[relation]['test'][0]\n",
    "    input_ids = tokenizer(item['head'], padding=True, return_tensors=\"pt\").to(device)\n",
    "    test= model.generate(**input_ids)\n",
    "    #print(test.size())\n",
    "    #test= model(input_ids['input_ids'])\n",
    "    renormed=activation['Linear']\n",
    "    print(renormed)\n",
    "    #print(sparsemax(renormed,-1))\n",
    "    #print(nn.functional.softmax(renormed,-1))"
   ]
  },
  {
   "cell_type": "code",
   "execution_count": null,
   "id": "066349c5-63eb-4039-9f9f-0d232366d6b1",
   "metadata": {},
   "outputs": [],
   "source": [
    "from entmax import sparsemax\n",
    "from torch import nn\n",
    "for relation in relations:\n",
    "    print(relation)\n",
    "    item =test_dict[relation]['test'][0]\n",
    "    input_ids = tokenizer(item['head'], padding=True, return_tensors=\"pt\").to(device)\n",
    "    test= model.generate(**input_ids)\n",
    "    #print(test.size())\n",
    "    #test= model(input_ids['input_ids'])\n",
    "    renormed=activation['Linear']\n",
    "    print(renormed)\n",
    "    #print(sparsemax(renormed,-1))\n",
    "    #print(nn.functional.softmax(renormed,-1))"
   ]
  },
  {
   "cell_type": "code",
   "execution_count": null,
   "id": "93ed71ef-4851-42e9-bd59-618559374377",
   "metadata": {
    "tags": []
   },
   "outputs": [],
   "source": [
    "activation = {}\n",
    "def get_activation(name):\n",
    "    def hook(model, input, output):\n",
    "        activation[name] = output.detach()\n",
    "    return hook\n",
    "\n",
    "model.model.decoder.layers[0].softmax.register_forward_hook(get_activation('Linear'))"
   ]
  },
  {
   "cell_type": "code",
   "execution_count": null,
   "id": "e6291bbb-760d-420f-b8c0-6219f8e45171",
   "metadata": {},
   "outputs": [],
   "source": [
    "model.model.decoder.layers[5].softmax._forward_hooks.clear()"
   ]
  },
  {
   "cell_type": "code",
   "execution_count": null,
   "id": "5277caa6-b49f-4ead-a825-e3e01346431f",
   "metadata": {},
   "outputs": [],
   "source": [
    "for param in model.model.parameters():\n",
    "    param.requires_grad = False\n",
    "for param in model.lm_head.parameters():\n",
    "    param.requires_grad = False\n",
    "for layer_index in range(6):\n",
    "    for coder in model.model.encoder, model.model.decoder:\n",
    "        layer = coder.layers[layer_index]\n",
    "        for i in range(5):\n",
    "            lin=layer.linears[i]\n",
    "            lin.weight.data = (0.01 if i !=2 else 1 )* lin.weight.data/torch.norm(lin.weight.data)"
   ]
  },
  {
   "cell_type": "code",
   "execution_count": null,
   "id": "121f5c2e-46af-4153-bcdd-4c8b2531db3a",
   "metadata": {
    "tags": []
   },
   "outputs": [],
   "source": [
    "print(model.model.decoder.layers[5].linears[4].weight.grad)"
   ]
  },
  {
   "cell_type": "code",
   "execution_count": null,
   "id": "ded8a8f8-313c-4609-a115-5c5da3fe33f7",
   "metadata": {
    "tags": []
   },
   "outputs": [],
   "source": [
    "print([x for x in model.model.decoder.layers[5].linears.named_parameters()])"
   ]
  },
  {
   "cell_type": "markdown",
   "id": "ecd0b01d-13f8-43fe-a60a-93b8fb88a670",
   "metadata": {
    "tags": []
   },
   "source": [
    "# Incremental Training + Evaluation"
   ]
  },
  {
   "cell_type": "code",
   "execution_count": null,
   "id": "2cf2c53c-7d59-48c0-ac5e-4867c0c312d8",
   "metadata": {},
   "outputs": [],
   "source": [
    "metric=evaluate.load('bleu')\n",
    "USE_REC_ADAM =False\n",
    "output_dir= 'rec_adam/' if USE_REC_ADAM else 'UMA_normed_softmax_full_freeze/' \n",
    "for relation_index, train_relation in enumerate(relations):\n",
    "    os.makedirs(f'{output_dir}{train_relation}', exist_ok=True)\n",
    "    \n",
    "    data_collator = DataCollatorForSeq2Seq(\n",
    "        tokenizer,\n",
    "        model=model\n",
    "    )\n",
    "\n",
    "    train_dataloader = DataLoader(\n",
    "        train_tok_dict[train_relation]['train'],\n",
    "        shuffle=True,\n",
    "        collate_fn=data_collator,\n",
    "        batch_size=64,\n",
    "    )\n",
    "    if USE_REC_ADAM and train_relation != relations[0]:\n",
    "        optimizer = RecAdam(model.parameters(), lr=1e-3, pretrain_params= list(model.parameters()))\n",
    "    else:\n",
    "        optimizer = AdamW(model.parameters(), lr=2e-5)\n",
    "\n",
    "\n",
    "\n",
    "    num_train_epochs = 3\n",
    "    num_update_steps_per_epoch = len(train_dataloader)\n",
    "    num_training_steps = num_train_epochs * num_update_steps_per_epoch\n",
    "\n",
    "    lr_scheduler = get_scheduler(\n",
    "        \"linear\",\n",
    "        optimizer=optimizer,\n",
    "        num_warmup_steps=0,\n",
    "        num_training_steps=num_training_steps,\n",
    "    )\n",
    "\n",
    "\n",
    "\n",
    "    progress_bar = tqdm(range(num_training_steps))\n",
    "    \n",
    "\n",
    "    # Freeze model except concerned adapters parameters\n",
    "    for param in model.model.parameters():\n",
    "        param.requires_grad = False\n",
    "    for param in model.lm_head.parameters():\n",
    "        param.requires_grad = False\n",
    "    for layer_index in range(6):\n",
    "        for coder in model.model.encoder, model.model.decoder:\n",
    "            layer = coder.layers[layer_index]\n",
    "            for part in [layer.adapters[relation_index], layer.linears[relation_index]]:\n",
    "                for param in part.parameters():\n",
    "                    param.requires_grad = True\n",
    "    \n",
    "    for layer_index in range(6):\n",
    "        for coder in model.model.encoder, model.model.decoder:\n",
    "            layer = coder.layers[layer_index]\n",
    "            for i in range(5):\n",
    "                lin=layer.linears[i]\n",
    "                lin.weight.data = 0.5*lin.weight.data/torch.norm(lin.weight.data)\n",
    "    \n",
    "    \n",
    "    model.train()\n",
    "    for epoch in range(num_train_epochs):\n",
    "        for batch in train_dataloader:\n",
    "            batch = {k: v.to(device) for k, v in batch.items()}\n",
    "            outputs = model(**batch)\n",
    "            loss = outputs.loss\n",
    "            loss.backward()\n",
    "\n",
    "            optimizer.step()\n",
    "            lr_scheduler.step()\n",
    "            optimizer.zero_grad()\n",
    "            progress_bar.update(1)\n",
    "\n",
    "    \n",
    "    model.eval() # put in testing mode (dropout modules are deactivated)\n",
    "    for test_relation in relations:\n",
    "        test_dataloader = DataLoader(\n",
    "            test_dict[test_relation]['test'],\n",
    "            batch_size=64,\n",
    "        )\n",
    "        for batch in test_dataloader:\n",
    "            input_ids = tokenizer(batch['head'], padding=True, return_tensors=\"pt\").to(device)\n",
    "            with torch.no_grad():\n",
    "                generations = model.generate(**input_ids)\n",
    "            decoded_gens= tokenizer.batch_decode(generations, skip_special_tokens=True)\n",
    "            labels = [s.split('\\t') for s in batch['tail']]\n",
    "            metric.add_batch(predictions=decoded_gens, references=labels)\n",
    "        results = metric.compute(max_order=2)\n",
    "        results['blue-1']=results['brevity_penalty']*results['precisions'][0]\n",
    "        f = open(f'{output_dir}results.txt', \"a\")\n",
    "        f.write(f'{train_relation} test on {test_relation} \\n {results} \\n')\n",
    "        f.close()   \n",
    "    \n",
    "        \n",
    "\n",
    "    model.save_pretrained(f'{output_dir}{train_relation}')    \n",
    "    "
   ]
  },
  {
   "cell_type": "markdown",
   "id": "54cfb343-9fed-4ba3-a951-9516c2b5d470",
   "metadata": {
    "tags": []
   },
   "source": [
    "# Elastic Weight Consolidation"
   ]
  },
  {
   "cell_type": "code",
   "execution_count": 8,
   "id": "cf34fd6d-d7dd-4fc5-a998-a4c10a2cca43",
   "metadata": {},
   "outputs": [],
   "source": [
    "optpar_dict = {}\n",
    "fisher_dict = {}\n",
    "def on_task_update(train_dataloader):\n",
    "    model.train()\n",
    "    optimizer.zero_grad()\n",
    "    # accumulating gradients\n",
    "    for batch in train_dataloader:\n",
    "        batch = {k: v.to(device) for k, v in batch.items()}\n",
    "        outputs = model(**batch)\n",
    "        loss = outputs.loss\n",
    "        loss.backward()\n",
    "    optpar_dict.clear()\n",
    "    fisher_dict.clear()\n",
    "    # gradients accumulated is used to compute fisher\n",
    "    for name, param in model.named_parameters():\n",
    "        optpar_dict[name] = param.data.clone()\n",
    "        fisher_dict[name] = param.grad.data.clone().pow(2)\n",
    "    optimizer.zero_grad()"
   ]
  },
  {
   "cell_type": "code",
   "execution_count": null,
   "id": "61a65156-76f3-4306-a664-e11d7827cb29",
   "metadata": {},
   "outputs": [
    {
     "name": "stderr",
     "output_type": "stream",
     "text": [
      "/root/ml/MasterProject/transformers/optimization.py:306: FutureWarning: This implementation of AdamW is deprecated and will be removed in a future version. Use the PyTorch implementation torch.optim.AdamW instead, or set `no_deprecation_warning=True` to disable this warning\n",
      "  warnings.warn(\n"
     ]
    },
    {
     "data": {
      "application/vnd.jupyter.widget-view+json": {
       "model_id": "566e816c35bc466191f314c48d71a68b",
       "version_major": 2,
       "version_minor": 0
      },
      "text/plain": [
       "  0%|          | 0/8379 [00:00<?, ?it/s]"
      ]
     },
     "metadata": {},
     "output_type": "display_data"
    },
    {
     "name": "stderr",
     "output_type": "stream",
     "text": [
      "You're using a BartTokenizerFast tokenizer. Please note that with a fast tokenizer, using the `__call__` method is faster than using a method to encode the text followed by a call to the `pad` method to get a padded encoding.\n"
     ]
    }
   ],
   "source": [
    "device='cuda'\n",
    "for lambda_power in range(8):\n",
    "    tokenizer = AutoTokenizer.from_pretrained('facebook/bart-base')\n",
    "    tokenizer.pad_token = \"[PAD]\"\n",
    "    model = AutoModelForSeq2SeqLM.from_pretrained('facebook/bart-base')\n",
    "    model.to(device)\n",
    "    \n",
    "    metric=evaluate.load('bleu')\n",
    "    ewc_lambda=10**lambda_power\n",
    "    output_dir= f'ewc_l={ewc_lambda}/'\n",
    "    for train_relation in relations:\n",
    "        os.makedirs(f'{output_dir}{train_relation}', exist_ok=False)\n",
    "\n",
    "        data_collator = DataCollatorForSeq2Seq(\n",
    "            tokenizer,\n",
    "            model=model\n",
    "        )\n",
    "\n",
    "        train_dataloader = DataLoader(\n",
    "            train_tok_dict[train_relation]['train'],\n",
    "            shuffle=True,\n",
    "            collate_fn=data_collator,\n",
    "            batch_size=64,\n",
    "        )\n",
    "\n",
    "        optimizer = AdamW(model.parameters(), lr=2e-5)\n",
    "\n",
    "\n",
    "\n",
    "        num_train_epochs = 3\n",
    "        num_update_steps_per_epoch = len(train_dataloader)\n",
    "        num_training_steps = num_train_epochs * num_update_steps_per_epoch\n",
    "\n",
    "        lr_scheduler = get_scheduler(\n",
    "            \"linear\",\n",
    "            optimizer=optimizer,\n",
    "            num_warmup_steps=0,\n",
    "            num_training_steps=num_training_steps,\n",
    "        )\n",
    "\n",
    "\n",
    "\n",
    "        progress_bar = tqdm(range(num_training_steps))\n",
    "\n",
    "        model.train()\n",
    "        for epoch in range(num_train_epochs):\n",
    "            for batch in train_dataloader:\n",
    "                batch = {k: v.to(device) for k, v in batch.items()}\n",
    "                outputs = model(**batch)\n",
    "                loss = outputs.loss\n",
    "\n",
    "                if train_relation!= relations[0]:\n",
    "                    #EWC penalty\n",
    "                    for name, param in model.named_parameters():\n",
    "                        fisher = fisher_dict[name]\n",
    "                        optpar = optpar_dict[name]\n",
    "                        loss += (fisher * (optpar - param).pow(2)).sum() * ewc_lambda\n",
    "\n",
    "                loss.backward()            \n",
    "                optimizer.step()\n",
    "                lr_scheduler.step()\n",
    "                optimizer.zero_grad()\n",
    "                progress_bar.update(1)\n",
    "\n",
    "        if train_relation!= relations[-1]:\n",
    "            on_task_update(train_dataloader)\n",
    "\n",
    "        model.eval() # put in testing mode (dropout modules are deactivated)\n",
    "        for dev_relation in relations:\n",
    "            dev_dataloader = DataLoader(\n",
    "                dev_dict[dev_relation]['dev'],\n",
    "                batch_size=64,\n",
    "            )\n",
    "            for batch in dev_dataloader:\n",
    "                input_ids = tokenizer(batch['head'], padding=True, return_tensors=\"pt\").to(device)\n",
    "                with torch.no_grad():\n",
    "                    generations = model.generate(**input_ids)\n",
    "                decoded_gens= tokenizer.batch_decode(generations, skip_special_tokens=True)\n",
    "                labels = [s.split('\\t') for s in batch['tail']]\n",
    "                metric.add_batch(predictions=decoded_gens, references=labels)\n",
    "            results = metric.compute(max_order=2)\n",
    "            results['blue-1']=results['brevity_penalty']*results['precisions'][0]\n",
    "            f = open(f'{output_dir}results.txt', \"a\")\n",
    "            f.write(f'{train_relation} dev on {dev_relation} \\n {results} \\n')\n",
    "            f.close()   \n",
    "\n",
    "\n",
    "\n",
    "        #model.save_pretrained(f'{output_dir}{train_relation}')    \n"
   ]
  },
  {
   "cell_type": "code",
   "execution_count": null,
   "id": "0394e305-8234-4e39-bf37-549c728772db",
   "metadata": {},
   "outputs": [],
   "source": []
  }
 ],
 "metadata": {
  "kernelspec": {
   "display_name": "Python 3 (ipykernel)",
   "language": "python",
   "name": "python3"
  },
  "language_info": {
   "codemirror_mode": {
    "name": "ipython",
    "version": 3
   },
   "file_extension": ".py",
   "mimetype": "text/x-python",
   "name": "python",
   "nbconvert_exporter": "python",
   "pygments_lexer": "ipython3",
   "version": "3.9.12"
  }
 },
 "nbformat": 4,
 "nbformat_minor": 5
}
