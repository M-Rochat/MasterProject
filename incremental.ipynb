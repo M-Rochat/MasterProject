{
 "cells": [
  {
   "cell_type": "markdown",
   "id": "b0fede98-41c8-4073-9d06-b840ac2ece0a",
   "metadata": {},
   "source": [
    "# Setup"
   ]
  },
  {
   "cell_type": "code",
   "execution_count": 2,
   "id": "c27ca958-9576-45b0-9998-ea983e622807",
   "metadata": {},
   "outputs": [],
   "source": [
    "import os\n",
    "import torch\n",
    "from torch import cuda\n",
    "from torch.utils.data import TensorDataset, DataLoader\n",
    "import evaluate\n",
    "from transformers import Seq2SeqTrainer, DataCollatorForSeq2Seq, AutoModelForSeq2SeqLM, AutoTokenizer, Seq2SeqTrainingArguments, pipeline, AdamW, get_scheduler\n",
    "from argparse import ArgumentParser\n",
    "import numpy as np\n",
    "from datasets import load_dataset, DownloadMode\n",
    "from tqdm.auto import tqdm"
   ]
  },
  {
   "cell_type": "markdown",
   "id": "035d4171-a787-4048-be3a-4b224cc5114f",
   "metadata": {
    "tags": []
   },
   "source": [
    "## model + tokenizer"
   ]
  },
  {
   "cell_type": "code",
   "execution_count": 3,
   "id": "12a9cb63-f852-4990-b0c1-52d865b62193",
   "metadata": {},
   "outputs": [
    {
     "name": "stdout",
     "output_type": "stream",
     "text": [
      "Model + tokenizer\n"
     ]
    }
   ],
   "source": [
    "model_name='facebook/bart-base'\n",
    "device='cuda'\n",
    "tokenizer = AutoTokenizer.from_pretrained(model_name)\n",
    "tokenizer.pad_token = \"[PAD]\"\n",
    "model = AutoModelForSeq2SeqLM.from_pretrained(model_name)\n",
    "model.to(device)\n",
    "print(\"Model + tokenizer\")"
   ]
  },
  {
   "cell_type": "markdown",
   "id": "8b06c64c-f93a-4cab-8f53-fc2d7e112cfa",
   "metadata": {},
   "source": [
    "## Train dataset"
   ]
  },
  {
   "cell_type": "code",
   "execution_count": 4,
   "id": "efb1d1c1-7dec-4096-9c21-d0c192f17fb9",
   "metadata": {
    "tags": []
   },
   "outputs": [
    {
     "name": "stderr",
     "output_type": "stream",
     "text": [
      "Using custom data configuration default-93aa8ff448102f0c\n",
      "Found cached dataset json (/root/.cache/huggingface/datasets/json/default-93aa8ff448102f0c/0.0.0/e6070c77f18f01a5ad4551a8b7edfba20b8438b7cad4d94e6ad9378022ce4aab)\n"
     ]
    },
    {
     "data": {
      "application/vnd.jupyter.widget-view+json": {
       "model_id": "30c30d2768804539bae824a742c57097",
       "version_major": 2,
       "version_minor": 0
      },
      "text/plain": [
       "  0%|          | 0/1 [00:00<?, ?it/s]"
      ]
     },
     "metadata": {},
     "output_type": "display_data"
    },
    {
     "name": "stderr",
     "output_type": "stream",
     "text": [
      "Using custom data configuration default-2513e8f6c6b4c2f7\n",
      "Found cached dataset json (/root/.cache/huggingface/datasets/json/default-2513e8f6c6b4c2f7/0.0.0/e6070c77f18f01a5ad4551a8b7edfba20b8438b7cad4d94e6ad9378022ce4aab)\n"
     ]
    },
    {
     "data": {
      "application/vnd.jupyter.widget-view+json": {
       "model_id": "f6ed3f3d626543a8b3176b9150686053",
       "version_major": 2,
       "version_minor": 0
      },
      "text/plain": [
       "  0%|          | 0/1 [00:00<?, ?it/s]"
      ]
     },
     "metadata": {},
     "output_type": "display_data"
    },
    {
     "name": "stderr",
     "output_type": "stream",
     "text": [
      "Using custom data configuration default-4dc7bdf93ec46776\n",
      "Found cached dataset json (/root/.cache/huggingface/datasets/json/default-4dc7bdf93ec46776/0.0.0/e6070c77f18f01a5ad4551a8b7edfba20b8438b7cad4d94e6ad9378022ce4aab)\n"
     ]
    },
    {
     "data": {
      "application/vnd.jupyter.widget-view+json": {
       "model_id": "0a172285772f4b1e8b4504e375b3cd1c",
       "version_major": 2,
       "version_minor": 0
      },
      "text/plain": [
       "  0%|          | 0/1 [00:00<?, ?it/s]"
      ]
     },
     "metadata": {},
     "output_type": "display_data"
    },
    {
     "name": "stderr",
     "output_type": "stream",
     "text": [
      "Using custom data configuration default-7ba272b55de9335d\n",
      "Found cached dataset json (/root/.cache/huggingface/datasets/json/default-7ba272b55de9335d/0.0.0/e6070c77f18f01a5ad4551a8b7edfba20b8438b7cad4d94e6ad9378022ce4aab)\n"
     ]
    },
    {
     "data": {
      "application/vnd.jupyter.widget-view+json": {
       "model_id": "c580c0e99de24568bc4949cf5bb7f805",
       "version_major": 2,
       "version_minor": 0
      },
      "text/plain": [
       "  0%|          | 0/1 [00:00<?, ?it/s]"
      ]
     },
     "metadata": {},
     "output_type": "display_data"
    },
    {
     "name": "stderr",
     "output_type": "stream",
     "text": [
      "Loading cached processed dataset at /root/.cache/huggingface/datasets/json/default-93aa8ff448102f0c/0.0.0/e6070c77f18f01a5ad4551a8b7edfba20b8438b7cad4d94e6ad9378022ce4aab/cache-2f9f01ec0bd398ed.arrow\n"
     ]
    },
    {
     "data": {
      "application/vnd.jupyter.widget-view+json": {
       "model_id": "df16a2ce96824639915f3f783fd896d8",
       "version_major": 2,
       "version_minor": 0
      },
      "text/plain": [
       "  0%|          | 0/147 [00:00<?, ?ba/s]"
      ]
     },
     "metadata": {},
     "output_type": "display_data"
    },
    {
     "name": "stderr",
     "output_type": "stream",
     "text": [
      "Loading cached processed dataset at /root/.cache/huggingface/datasets/json/default-4dc7bdf93ec46776/0.0.0/e6070c77f18f01a5ad4551a8b7edfba20b8438b7cad4d94e6ad9378022ce4aab/cache-fe5a6b55ee6352c5.arrow\n",
      "Loading cached processed dataset at /root/.cache/huggingface/datasets/json/default-7ba272b55de9335d/0.0.0/e6070c77f18f01a5ad4551a8b7edfba20b8438b7cad4d94e6ad9378022ce4aab/cache-c0a90a6ff09b3f00.arrow\n"
     ]
    }
   ],
   "source": [
    "dataset_dir= 'modified_dataset/'\n",
    "train_dict={}\n",
    "relations = ['Physical','Event', 'Intent','Reaction']\n",
    "for relation in relations:\n",
    "    train_dict[relation] = load_dataset('json', data_files={'train': f'{dataset_dir}{relation} train.json'}, download_mode= DownloadMode.REUSE_DATASET_IF_EXISTS)\n",
    "\n",
    "max_seq_length = 64\n",
    "def preprocess_function(examples):\n",
    "    model_inputs = tokenizer(examples['head'], text_target=examples['tail'], max_length=max_seq_length,\n",
    "                             truncation=True)\n",
    "    return model_inputs\n",
    "\n",
    "train_tok_dict={}\n",
    "for relation in relations:\n",
    "    train_tok_dict[relation] = train_dict[relation].map(\n",
    "        preprocess_function,\n",
    "        batched=True,  # num_proc=num_proc,\n",
    "        remove_columns=['head', 'tail'],\n",
    "        load_from_cache_file=True\n",
    "    )"
   ]
  },
  {
   "cell_type": "markdown",
   "id": "478dd527-0623-449a-8f89-6b92ec215b64",
   "metadata": {},
   "source": [
    "## Test dataset"
   ]
  },
  {
   "cell_type": "code",
   "execution_count": 5,
   "id": "ee6c3673-9cc8-4466-8208-2b3ed526e0f5",
   "metadata": {},
   "outputs": [
    {
     "name": "stderr",
     "output_type": "stream",
     "text": [
      "Using custom data configuration default-7e6b9691b74736f5\n",
      "Found cached dataset json (/root/.cache/huggingface/datasets/json/default-7e6b9691b74736f5/0.0.0/e6070c77f18f01a5ad4551a8b7edfba20b8438b7cad4d94e6ad9378022ce4aab)\n"
     ]
    },
    {
     "data": {
      "application/vnd.jupyter.widget-view+json": {
       "model_id": "20936641946d426ba4ca0c708abda9ac",
       "version_major": 2,
       "version_minor": 0
      },
      "text/plain": [
       "  0%|          | 0/1 [00:00<?, ?it/s]"
      ]
     },
     "metadata": {},
     "output_type": "display_data"
    },
    {
     "name": "stderr",
     "output_type": "stream",
     "text": [
      "Using custom data configuration default-e48f3d7247e9024e\n",
      "Found cached dataset json (/root/.cache/huggingface/datasets/json/default-e48f3d7247e9024e/0.0.0/e6070c77f18f01a5ad4551a8b7edfba20b8438b7cad4d94e6ad9378022ce4aab)\n"
     ]
    },
    {
     "data": {
      "application/vnd.jupyter.widget-view+json": {
       "model_id": "b6777d77e73746dba438de40292fe8a2",
       "version_major": 2,
       "version_minor": 0
      },
      "text/plain": [
       "  0%|          | 0/1 [00:00<?, ?it/s]"
      ]
     },
     "metadata": {},
     "output_type": "display_data"
    },
    {
     "name": "stderr",
     "output_type": "stream",
     "text": [
      "Using custom data configuration default-9570b0225009fd85\n",
      "Found cached dataset json (/root/.cache/huggingface/datasets/json/default-9570b0225009fd85/0.0.0/e6070c77f18f01a5ad4551a8b7edfba20b8438b7cad4d94e6ad9378022ce4aab)\n"
     ]
    },
    {
     "data": {
      "application/vnd.jupyter.widget-view+json": {
       "model_id": "d57f8c1de95f4ca9b9a4769834596ec6",
       "version_major": 2,
       "version_minor": 0
      },
      "text/plain": [
       "  0%|          | 0/1 [00:00<?, ?it/s]"
      ]
     },
     "metadata": {},
     "output_type": "display_data"
    },
    {
     "name": "stderr",
     "output_type": "stream",
     "text": [
      "Using custom data configuration default-2afd8348b3f2243d\n",
      "Found cached dataset json (/root/.cache/huggingface/datasets/json/default-2afd8348b3f2243d/0.0.0/e6070c77f18f01a5ad4551a8b7edfba20b8438b7cad4d94e6ad9378022ce4aab)\n"
     ]
    },
    {
     "data": {
      "application/vnd.jupyter.widget-view+json": {
       "model_id": "476bd78c318f479a946d18aa342ecc38",
       "version_major": 2,
       "version_minor": 0
      },
      "text/plain": [
       "  0%|          | 0/1 [00:00<?, ?it/s]"
      ]
     },
     "metadata": {},
     "output_type": "display_data"
    },
    {
     "name": "stderr",
     "output_type": "stream",
     "text": [
      "Loading cached processed dataset at /root/.cache/huggingface/datasets/json/default-7e6b9691b74736f5/0.0.0/e6070c77f18f01a5ad4551a8b7edfba20b8438b7cad4d94e6ad9378022ce4aab/cache-b3a10f3c6a89ee85.arrow\n",
      "Loading cached processed dataset at /root/.cache/huggingface/datasets/json/default-e48f3d7247e9024e/0.0.0/e6070c77f18f01a5ad4551a8b7edfba20b8438b7cad4d94e6ad9378022ce4aab/cache-236e9b251d5bbe77.arrow\n",
      "Loading cached processed dataset at /root/.cache/huggingface/datasets/json/default-9570b0225009fd85/0.0.0/e6070c77f18f01a5ad4551a8b7edfba20b8438b7cad4d94e6ad9378022ce4aab/cache-1e0364c246fb4b17.arrow\n",
      "Loading cached processed dataset at /root/.cache/huggingface/datasets/json/default-2afd8348b3f2243d/0.0.0/e6070c77f18f01a5ad4551a8b7edfba20b8438b7cad4d94e6ad9378022ce4aab/cache-a2aadcc021fcb54f.arrow\n"
     ]
    }
   ],
   "source": [
    "dataset_dir= 'modified_dataset/'\n",
    "test_dict={}\n",
    "relations = ['Physical','Event', 'Intent','Reaction']\n",
    "for relation in relations:\n",
    "    test_dict[relation] = load_dataset('json', data_files={'test': f'{dataset_dir}{relation} test.json'}, download_mode= DownloadMode.REUSE_DATASET_IF_EXISTS)\n",
    "\n",
    "max_seq_length = 64\n",
    "def preprocess_function(examples):\n",
    "    examples['tail']=['\\t'.join(x) for x in examples['tail']]\n",
    "    return examples\n",
    "\n",
    "for relation in relations:\n",
    "    test_dict[relation] = test_dict[relation].map(\n",
    "        preprocess_function,\n",
    "        batched=True,\n",
    "        load_from_cache_file=True\n",
    "    )"
   ]
  },
  {
   "cell_type": "markdown",
   "id": "ec2bb024-a32c-406a-98c1-b540ce912a16",
   "metadata": {},
   "source": [
    "## generation example"
   ]
  },
  {
   "cell_type": "code",
   "execution_count": 6,
   "id": "b81214da-f2fe-4d8f-92df-95236f066e1e",
   "metadata": {
    "tags": []
   },
   "outputs": [
    {
     "name": "stderr",
     "output_type": "stream",
     "text": [
      "/root/anaconda3/lib/python3.9/site-packages/transformers/generation_utils.py:1359: UserWarning: Neither `max_length` nor `max_new_tokens` has been set, `max_length` will default to 20 (`self.config.max_length`). Controlling `max_length` via the config is deprecated and `max_length` will be removed from the config in v5 of Transformers -- we recommend using `max_new_tokens` to control the maximum length of the generation.\n",
      "  warnings.warn(\n"
     ]
    },
    {
     "name": "stdout",
     "output_type": "stream",
     "text": [
      "Physical\n",
      "['a long rope can be used to']\n",
      "['a long rope can be used to']\n",
      "labels\n",
      "[['make lots of knots', 'secure the rock', 'play tug of war', 'pull a car', 'hang yourself', 'tow a boat in', 'climb a mountain', 'save someone stuck in a tunnel', 'play a game of tug of war', 'play tag of war', 'create holder']]\n",
      "Event\n",
      "[\"PersonX plays PersonY's favorite songs. Before that,\"]\n",
      "[\"PersonX plays PersonY's favorite songs. Before that,\"]\n",
      "labels\n",
      "[[\"PersonX wished their friend wasn't gone\"]]\n",
      "Intent\n",
      "['PersonX runs for class president. PersonX did this to']\n",
      "['PersonX runs for class president. PersonX did this to']\n",
      "labels\n",
      "[[' make a difference in their classroom', ' feel important']]\n",
      "Reaction\n",
      "[\"PersonX sees PersonY's girlfriend. The effect on PersonX will be that PersonX\"]\n",
      "[\"PersonX sees PersonY's girlfriend. The effect on PersonX will be that Person\"]\n",
      "labels\n",
      "[['observes her', 'takes note of her', 'gets called', 'gets stoped', 'waves sat her', 'stops to talk to her']]\n"
     ]
    }
   ],
   "source": [
    "for relation in relations:\n",
    "    test_dataloader = DataLoader(\n",
    "        test_dict[relation]['test'],\n",
    "        batch_size=1,\n",
    "    )\n",
    "    for batch in test_dataloader:\n",
    "        input_ids = tokenizer(batch['head'], padding=True, return_tensors=\"pt\").to(device)\n",
    "        generations = model.generate(**input_ids)\n",
    "        print(f\"{relation}\")\n",
    "        print(batch['head'])\n",
    "        print(tokenizer.batch_decode(generations, skip_special_tokens=True))\n",
    "        print('labels')\n",
    "        print([s.split('\\t') for s in batch['tail']])\n",
    "        break"
   ]
  },
  {
   "cell_type": "markdown",
   "id": "ecd0b01d-13f8-43fe-a60a-93b8fb88a670",
   "metadata": {},
   "source": [
    "# Incremental Training + Evaluation"
   ]
  },
  {
   "cell_type": "code",
   "execution_count": null,
   "id": "2cf2c53c-7d59-48c0-ac5e-4867c0c312d8",
   "metadata": {},
   "outputs": [
    {
     "name": "stderr",
     "output_type": "stream",
     "text": [
      "/root/anaconda3/lib/python3.9/site-packages/transformers/optimization.py:306: FutureWarning: This implementation of AdamW is deprecated and will be removed in a future version. Use the PyTorch implementation torch.optim.AdamW instead, or set `no_deprecation_warning=True` to disable this warning\n",
      "  warnings.warn(\n"
     ]
    },
    {
     "data": {
      "application/vnd.jupyter.widget-view+json": {
       "model_id": "d57c879272544a84be79e1ecf91bbffb",
       "version_major": 2,
       "version_minor": 0
      },
      "text/plain": [
       "  0%|          | 0/16755 [00:00<?, ?it/s]"
      ]
     },
     "metadata": {},
     "output_type": "display_data"
    },
    {
     "name": "stderr",
     "output_type": "stream",
     "text": [
      "You're using a BartTokenizerFast tokenizer. Please note that with a fast tokenizer, using the `__call__` method is faster than using a method to encode the text followed by a call to the `pad` method to get a padded encoding.\n"
     ]
    },
    {
     "data": {
      "application/vnd.jupyter.widget-view+json": {
       "model_id": "1d3bf8ccd161406cb7f498cbbb77b995",
       "version_major": 2,
       "version_minor": 0
      },
      "text/plain": [
       "  0%|          | 0/13770 [00:00<?, ?it/s]"
      ]
     },
     "metadata": {},
     "output_type": "display_data"
    },
    {
     "data": {
      "application/vnd.jupyter.widget-view+json": {
       "model_id": "11bf71dcfb6b409ab53cf5ef52945b6a",
       "version_major": 2,
       "version_minor": 0
      },
      "text/plain": [
       "  0%|          | 0/28092 [00:00<?, ?it/s]"
      ]
     },
     "metadata": {},
     "output_type": "display_data"
    },
    {
     "data": {
      "application/vnd.jupyter.widget-view+json": {
       "model_id": "a3df63f7bdae49c1b151f5e171aec91f",
       "version_major": 2,
       "version_minor": 0
      },
      "text/plain": [
       "  0%|          | 0/31053 [00:00<?, ?it/s]"
      ]
     },
     "metadata": {},
     "output_type": "display_data"
    },
    {
     "name": "stderr",
     "output_type": "stream",
     "text": [
      "IOPub message rate exceeded.\n",
      "The notebook server will temporarily stop sending output\n",
      "to the client in order to avoid crashing it.\n",
      "To change this limit, set the config variable\n",
      "`--NotebookApp.iopub_msg_rate_limit`.\n",
      "\n",
      "Current values:\n",
      "NotebookApp.iopub_msg_rate_limit=1000.0 (msgs/sec)\n",
      "NotebookApp.rate_limit_window=3.0 (secs)\n",
      "\n",
      "IOPub message rate exceeded.\n",
      "The notebook server will temporarily stop sending output\n",
      "to the client in order to avoid crashing it.\n",
      "To change this limit, set the config variable\n",
      "`--NotebookApp.iopub_msg_rate_limit`.\n",
      "\n",
      "Current values:\n",
      "NotebookApp.iopub_msg_rate_limit=1000.0 (msgs/sec)\n",
      "NotebookApp.rate_limit_window=3.0 (secs)\n",
      "\n"
     ]
    }
   ],
   "source": [
    "metric=evaluate.load('bleu')\n",
    "\n",
    "for train_relation in relations:\n",
    "    os.makedirs(f'incremental/{train_relation}', exist_ok=True)\n",
    "    \n",
    "    data_collator = DataCollatorForSeq2Seq(\n",
    "        tokenizer,\n",
    "        model=model\n",
    "    )\n",
    "\n",
    "    train_dataloader = DataLoader(\n",
    "        train_tok_dict[train_relation]['train'],\n",
    "        shuffle=True,\n",
    "        collate_fn=data_collator,\n",
    "        batch_size=32,\n",
    "    )\n",
    "\n",
    "    optimizer = AdamW(model.parameters(), lr=2e-5)\n",
    "\n",
    "\n",
    "\n",
    "    num_train_epochs = 3\n",
    "    num_update_steps_per_epoch = len(train_dataloader)\n",
    "    num_training_steps = num_train_epochs * num_update_steps_per_epoch\n",
    "\n",
    "    lr_scheduler = get_scheduler(\n",
    "        \"linear\",\n",
    "        optimizer=optimizer,\n",
    "        num_warmup_steps=0,\n",
    "        num_training_steps=num_training_steps,\n",
    "    )\n",
    "\n",
    "\n",
    "\n",
    "    progress_bar = tqdm(range(num_training_steps))\n",
    "\n",
    "    model.train()\n",
    "    for epoch in range(num_train_epochs):\n",
    "        for batch in train_dataloader:\n",
    "            batch = {k: v.to(device) for k, v in batch.items()}\n",
    "            outputs = model(**batch)\n",
    "            loss = outputs.loss\n",
    "            loss.backward()\n",
    "\n",
    "            optimizer.step()\n",
    "            lr_scheduler.step()\n",
    "            optimizer.zero_grad()\n",
    "            progress_bar.update(1)\n",
    "\n",
    "    \n",
    "    model.eval() # put in testing mode (dropout modules are deactivated)\n",
    "    for test_relation in relations:\n",
    "        test_dataloader = DataLoader(\n",
    "            test_dict[test_relation]['test'],\n",
    "            batch_size=64,\n",
    "        )\n",
    "        for batch in test_dataloader:\n",
    "            input_ids = tokenizer(batch['head'], padding=True, return_tensors=\"pt\").to(device)\n",
    "            with torch.no_grad():\n",
    "                generations = model.generate(**input_ids)\n",
    "            decoded_gens= tokenizer.batch_decode(generations, skip_special_tokens=True)\n",
    "            labels = [s.split('\\t') for s in batch['tail']]\n",
    "            metric.add_batch(predictions=decoded_gens, references=labels)\n",
    "        results = metric.compute()\n",
    "        \n",
    "        f = open(f'incremental/{train_relation}/results.txt', \"a\")\n",
    "        f.write(f'{test_relation} \\n {results} \\n')\n",
    "        f.close()\n",
    "        \n",
    "\n",
    "    model.save_pretrained(f'incremental/{train_relation}')\n",
    "\n",
    "    \n",
    "    "
   ]
  },
  {
   "cell_type": "markdown",
   "id": "3bd472da-f80c-4a8c-8600-bef58d57b7ff",
   "metadata": {},
   "source": [
    "## Evaluation "
   ]
  },
  {
   "cell_type": "code",
   "execution_count": 12,
   "id": "cec37404-1aca-4be9-a2e6-d5b03ca487f8",
   "metadata": {},
   "outputs": [],
   "source": [
    "metric=evaluate.load('bleu')\n",
    "\n",
    "for train_relation in relations:\n",
    "    device='cuda'\n",
    "    model_name= f'incremental/{train_relation}'\n",
    "    tokenizer = AutoTokenizer.from_pretrained('facebook/bart-base')\n",
    "    tokenizer.pad_token = \"[PAD]\"\n",
    "    model = AutoModelForSeq2SeqLM.from_pretrained(model_name)\n",
    "    model.to(device)\n",
    "    \n",
    "    model.eval() # put in testing mode (dropout modules are deactivated)\n",
    "    for test_relation in relations:\n",
    "        test_dataloader = DataLoader(\n",
    "            test_dict[test_relation]['test'],\n",
    "            batch_size=64,\n",
    "        )\n",
    "        for batch in test_dataloader:\n",
    "            input_ids = tokenizer(batch['head'], padding=True, return_tensors=\"pt\").to(device)\n",
    "            with torch.no_grad():\n",
    "                generations = model.generate(**input_ids)\n",
    "            decoded_gens= tokenizer.batch_decode(generations, skip_special_tokens=True)\n",
    "            labels = [s.split('\\t') for s in batch['tail']]\n",
    "            metric.add_batch(predictions=decoded_gens, references=labels)\n",
    "        results = metric.compute(max_order=2)\n",
    "        results['blue-1']=results['brevity_penalty']*results['precisions'][0]\n",
    "        f = open(f'incremental/results.txt', \"a\")\n",
    "        f.write(f'{train_relation} test on {test_relation} \\n {results} \\n')\n",
    "        f.close()   \n",
    "    "
   ]
  }
 ],
 "metadata": {
  "kernelspec": {
   "display_name": "Python 3 (ipykernel)",
   "language": "python",
   "name": "python3"
  },
  "language_info": {
   "codemirror_mode": {
    "name": "ipython",
    "version": 3
   },
   "file_extension": ".py",
   "mimetype": "text/x-python",
   "name": "python",
   "nbconvert_exporter": "python",
   "pygments_lexer": "ipython3",
   "version": "3.9.12"
  }
 },
 "nbformat": 4,
 "nbformat_minor": 5
}
