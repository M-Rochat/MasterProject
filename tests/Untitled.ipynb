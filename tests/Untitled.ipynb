{
 "cells": [
  {
   "cell_type": "code",
   "execution_count": null,
   "id": "e4c38ce3-0fa8-47c9-9966-525074219086",
   "metadata": {},
   "outputs": [],
   "source": [
    "!wget 'https://ai2-atomic.s3-us-west-2.amazonaws.com/data/atomic2020_data-feb2021.zip'"
   ]
  },
  {
   "cell_type": "code",
   "execution_count": null,
   "id": "db7db39f-1dab-4dcd-aa80-8f67d83d3fa0",
   "metadata": {},
   "outputs": [],
   "source": [
    "!unzip stuff.zip"
   ]
  },
  {
   "cell_type": "code",
   "execution_count": null,
   "id": "1011001a-f39c-478a-9c0d-6e31a9ebd1ab",
   "metadata": {},
   "outputs": [],
   "source": [
    "from datasets import load_dataset\n",
    "s = \"dataset\\\\\"\n",
    "data_files = {\"train\": s+\"train.tsv\", \"test\": s+\"test.tsv\",\"dev\" : s+\"dev.tsv\"}\n",
    "# \\t is the tab character in Python\n",
    "dataset = load_dataset(\"csv\", data_files=data_files, delimiter=\"\\t\")"
   ]
  },
  {
   "cell_type": "code",
   "execution_count": null,
   "id": "fc1c8b54-b288-4185-af84-652a882d7865",
   "metadata": {},
   "outputs": [],
   "source": [
    "drug_sample = drug_dataset[\"train\"].shuffle(seed=42).select(range(1000))\n",
    "# Peek at the first few examples\n",
    "drug_sample[:3]"
   ]
  }
 ],
 "metadata": {
  "kernelspec": {
   "display_name": "Python 3 (ipykernel)",
   "language": "python",
   "name": "python3"
  },
  "language_info": {
   "codemirror_mode": {
    "name": "ipython",
    "version": 3
   },
   "file_extension": ".py",
   "mimetype": "text/x-python",
   "name": "python",
   "nbconvert_exporter": "python",
   "pygments_lexer": "ipython3",
   "version": "3.9.12"
  }
 },
 "nbformat": 4,
 "nbformat_minor": 5
}
