{
 "cells": [
  {
   "cell_type": "code",
   "execution_count": 1,
   "id": "98327da4-e448-4d0b-95da-5ab8423017d2",
   "metadata": {},
   "outputs": [
    {
     "name": "stdout",
     "output_type": "stream",
     "text": [
      "& 0.390 & 0.261 & 0.047 & 0.015 & 0.147 & 0.057 & 0.042 & 0.011 \\\\ \n",
      "& 0.194 & 0.082 & 0.469 & 0.265 & 0.175 & 0.075 & 0.071 & 0.022 \\\\ \n",
      "& 0.157 & 0.068 & 0.110 & 0.055 & 0.377 & 0.246 & 0.072 & 0.029 \\\\ \n",
      "& 0.010 & 0.000 & 0.022 & 0.011 & 0.095 & 0.052 & 0.259 & 0.129 \\\\ \n",
      "\n"
     ]
    }
   ],
   "source": [
    "path='UMA_coder_entmax'\n",
    "key_to_keep = ['blue-1', 'bleu']\n",
    "\n",
    "output=''\n",
    "f = open(f'{path}/results.txt', \"r\")\n",
    "for index, line in enumerate(f):\n",
    "    if index%2==1:\n",
    "        dic=eval(line)\n",
    "        keys_copy=list(dic.keys())\n",
    "\n",
    "        for k in keys_copy:\n",
    "            if k in key_to_keep:\n",
    "                dic[k]=f'{dic[k]:.3f}'\n",
    "            else:\n",
    "                del dic[k]\n",
    "        for k in key_to_keep:\n",
    "            output += f'& {dic[k]} '\n",
    "    if index%8==7:\n",
    "        output+='\\\\\\\\ \\n'\n",
    "f.close()  \n",
    "print(output)"
   ]
  },
  {
   "cell_type": "code",
   "execution_count": 2,
   "id": "62397620-1ebd-4437-9aa7-7d2d36184f4f",
   "metadata": {},
   "outputs": [
    {
     "name": "stdout",
     "output_type": "stream",
     "text": [
      "& 0.376 & 0.249 & 0.073 & 0.026 & 0.159 & 0.061 & 0.043 & 0.011 \\\\ \n",
      "& 0.245 & 0.109 & 0.462 & 0.259 & 0.163 & 0.068 & 0.075 & 0.023 \\\\ \n",
      "& 0.139 & 0.048 & 0.119 & 0.060 & 0.368 & 0.237 & 0.067 & 0.026 \\\\ \n",
      "& 0.006 & 0.000 & 0.022 & 0.010 & 0.023 & 0.017 & 0.257 & 0.124 \\\\ \n",
      "\n"
     ]
    }
   ],
   "source": [
    "path='UMA_strong_weights'\n",
    "key_to_keep = ['blue-1', 'bleu']\n",
    "\n",
    "output=''\n",
    "f = open(f'{path}/results.txt', \"r\")\n",
    "for index, line in enumerate(f):\n",
    "    if index%2==1:\n",
    "        dic=eval(line)\n",
    "        keys_copy=list(dic.keys())\n",
    "\n",
    "        for k in keys_copy:\n",
    "            if k in key_to_keep:\n",
    "                dic[k]=f'{dic[k]:.3f}'\n",
    "            else:\n",
    "                del dic[k]\n",
    "        for k in key_to_keep:\n",
    "            output += f'& {dic[k]} '\n",
    "    if index%8==7:\n",
    "        output+='\\\\\\\\ \\n'\n",
    "f.close()  \n",
    "print(output)"
   ]
  },
  {
   "cell_type": "code",
   "execution_count": null,
   "id": "2eb2e073-8a6c-42ae-90f1-3959f0895d0d",
   "metadata": {},
   "outputs": [],
   "source": []
  }
 ],
 "metadata": {
  "kernelspec": {
   "display_name": "Python 3 (ipykernel)",
   "language": "python",
   "name": "python3"
  },
  "language_info": {
   "codemirror_mode": {
    "name": "ipython",
    "version": 3
   },
   "file_extension": ".py",
   "mimetype": "text/x-python",
   "name": "python",
   "nbconvert_exporter": "python",
   "pygments_lexer": "ipython3",
   "version": "3.9.12"
  }
 },
 "nbformat": 4,
 "nbformat_minor": 5
}
