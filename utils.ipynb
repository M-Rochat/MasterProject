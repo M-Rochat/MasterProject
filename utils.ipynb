{
 "cells": [
  {
   "cell_type": "code",
   "execution_count": 5,
   "id": "98327da4-e448-4d0b-95da-5ab8423017d2",
   "metadata": {},
   "outputs": [
    {
     "name": "stdout",
     "output_type": "stream",
     "text": [
      "& 0.403 & 0.278 & 0.102 & 0.034 & 0.176 & 0.071 & 0.060 & 0.017 \\\\ \n",
      "& 0.408 & 0.271 & 0.460 & 0.250 & 0.167 & 0.070 & 0.069 & 0.023 \\\\ \n",
      "& 0.398 & 0.253 & 0.292 & 0.171 & 0.353 & 0.219 & 0.072 & 0.029 \\\\ \n",
      "& 0.406 & 0.271 & 0.296 & 0.168 & 0.287 & 0.184 & 0.230 & 0.104 \\\\ \n",
      "\n"
     ]
    }
   ],
   "source": [
    "path='ewc_l=1000'\n",
    "key_to_keep = ['blue-1', 'bleu']\n",
    "\n",
    "output=''\n",
    "f = open(f'{path}/results.txt', \"r\")\n",
    "for index, line in enumerate(f):\n",
    "    if index%2==1:\n",
    "        dic=eval(line)\n",
    "        keys_copy=list(dic.keys())\n",
    "\n",
    "        for k in keys_copy:\n",
    "            if k in key_to_keep:\n",
    "                dic[k]=f'{dic[k]:.3f}'\n",
    "            else:\n",
    "                del dic[k]\n",
    "        for k in key_to_keep:\n",
    "            output += f'& {dic[k]} '\n",
    "    if index%8==7:\n",
    "        output+='\\\\\\\\ \\n'\n",
    "f.close()  \n",
    "print(output)"
   ]
  },
  {
   "cell_type": "code",
   "execution_count": null,
   "id": "62397620-1ebd-4437-9aa7-7d2d36184f4f",
   "metadata": {},
   "outputs": [],
   "source": []
  }
 ],
 "metadata": {
  "kernelspec": {
   "display_name": "Python 3 (ipykernel)",
   "language": "python",
   "name": "python3"
  },
  "language_info": {
   "codemirror_mode": {
    "name": "ipython",
    "version": 3
   },
   "file_extension": ".py",
   "mimetype": "text/x-python",
   "name": "python",
   "nbconvert_exporter": "python",
   "pygments_lexer": "ipython3",
   "version": "3.9.12"
  }
 },
 "nbformat": 4,
 "nbformat_minor": 5
}
