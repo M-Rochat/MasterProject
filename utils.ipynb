{
 "cells": [
  {
   "cell_type": "code",
   "execution_count": 32,
   "id": "98327da4-e448-4d0b-95da-5ab8423017d2",
   "metadata": {},
   "outputs": [
    {
     "name": "stdout",
     "output_type": "stream",
     "text": [
      "\\texttt{ewc_l=1} \\\\ \n",
      "\\quad Physical & 40.6 & 26.7 \\\\ \n",
      "\\quad Event & 36.9 & 21.9 & 47.6 & 27.0 \\\\ \n",
      "\\quad Intent & 29.2 & 16.2 & 15.8 & 08.2 & 36.6 & 24.1 \\\\ \n",
      "\\quad Reaction & 03.4 & 04.5 & 10.5 & 06.3 & 07.4 & 05.4 & 26.7 & 13.2 \\\\ \n",
      "\n",
      "25.5\n",
      "15.4\n"
     ]
    }
   ],
   "source": [
    "path='ewc_l=1'\n",
    "key_to_keep = ['blue-1', 'bleu']\n",
    "\n",
    "relations = ['Physical','Event', 'Intent','Reaction']\n",
    "\n",
    "output='\\\\texttt{'+f'{path}'+'} \\\\\\\\ \\n'\n",
    "f = open(f'{path}/results.txt', \"r\")\n",
    "mean={}\n",
    "for k in key_to_keep:\n",
    "    mean[k]=0\n",
    "for index, line in enumerate(f):\n",
    "    if index%8==0:\n",
    "        output+=f'\\quad {relations[index//8]} '\n",
    "    if index%2==1:\n",
    "        if (index%8)//2 <= index//8:\n",
    "            dic=eval(line)\n",
    "            keys_copy=list(dic.keys())\n",
    "\n",
    "            for k in keys_copy:\n",
    "                if k in key_to_keep:\n",
    "                    mean[k] += dic[k]\n",
    "                    dic[k]=f'{100*dic[k]:04.1f}'\n",
    "                else:\n",
    "                    del dic[k]\n",
    "            for k in key_to_keep:\n",
    "                output += f'& {dic[k]} '\n",
    "    if index%8==7:\n",
    "        output+='\\\\\\\\ \\n'\n",
    "f.close()  \n",
    "print(output)\n",
    "for k in key_to_keep:\n",
    "    print(f'{100*mean[k]/10:04.1f}')"
   ]
  },
  {
   "cell_type": "code",
   "execution_count": 38,
   "id": "2eb2e073-8a6c-42ae-90f1-3959f0895d0d",
   "metadata": {},
   "outputs": [
    {
     "name": "stdout",
     "output_type": "stream",
     "text": [
      "(1,15.4)(10,17.0)(100,20.0)(1000,21.2)(10000,21.5)(100000,20.4)(1000000,19.4)(10000000,17.4)\n"
     ]
    }
   ],
   "source": [
    "to_print=''\n",
    "for i in range(8):\n",
    "    path=f'ewc_l={10**i}'\n",
    "    #key_to_keep = ['blue-1']\n",
    "    key_to_keep = ['bleu']\n",
    "\n",
    "    relations = ['Physical','Event', 'Intent','Reaction']\n",
    "\n",
    "    output='\\\\texttt{'+f'{path}'+'} \\\\\\\\ \\n'\n",
    "    f = open(f'{path}/results.txt', \"r\")\n",
    "    mean={}\n",
    "    for k in key_to_keep:\n",
    "        mean[k]=0\n",
    "    for index, line in enumerate(f):\n",
    "        if index%8==0:\n",
    "            output+=f'\\quad {relations[index//8]} '\n",
    "        if index%2==1:\n",
    "            if (index%8)//2 <= index//8:\n",
    "                dic=eval(line)\n",
    "                keys_copy=list(dic.keys())\n",
    "\n",
    "                for k in keys_copy:\n",
    "                    if k in key_to_keep:\n",
    "                        mean[k] += dic[k]\n",
    "                        dic[k]=f'{100*dic[k]:04.1f}'\n",
    "                    else:\n",
    "                        del dic[k]\n",
    "                for k in key_to_keep:\n",
    "                    output += f'& {dic[k]} '\n",
    "        if index%8==7:\n",
    "            output+='\\\\\\\\ \\n'\n",
    "    f.close()  \n",
    "    for k in key_to_keep:\n",
    "        to_print+=f'({10**i},{100*mean[k]/10:04.1f})'\n",
    "print(to_print)"
   ]
  },
  {
   "cell_type": "code",
   "execution_count": null,
   "id": "940d3d93-be94-44f8-bebf-2b7b566b1a52",
   "metadata": {},
   "outputs": [],
   "source": []
  }
 ],
 "metadata": {
  "kernelspec": {
   "display_name": "Python 3 (ipykernel)",
   "language": "python",
   "name": "python3"
  },
  "language_info": {
   "codemirror_mode": {
    "name": "ipython",
    "version": 3
   },
   "file_extension": ".py",
   "mimetype": "text/x-python",
   "name": "python",
   "nbconvert_exporter": "python",
   "pygments_lexer": "ipython3",
   "version": "3.9.12"
  }
 },
 "nbformat": 4,
 "nbformat_minor": 5
}
