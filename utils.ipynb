{
 "cells": [
  {
   "cell_type": "code",
   "execution_count": null,
   "id": "98327da4-e448-4d0b-95da-5ab8423017d2",
   "metadata": {},
   "outputs": [],
   "source": [
    "path='rec_adam'\n",
    "key_to_keep = ['blue-1', 'bleu']\n",
    "\n",
    "output=''\n",
    "f = open(f'{path}/results.txt', \"r\")\n",
    "for index, line in enumerate(f):\n",
    "    if index%2==1:\n",
    "        dic=eval(line)\n",
    "        keys_copy=list(dic.keys())\n",
    "\n",
    "        for k in keys_copy:\n",
    "            if k in key_to_keep:\n",
    "                dic[k]=f'{dic[k]:.3f}'\n",
    "            else:\n",
    "                del dic[k]\n",
    "        for k in key_to_keep:\n",
    "            output += f'& {dic[k]} '\n",
    "f.close()  \n",
    "print(output)"
   ]
  }
 ],
 "metadata": {
  "kernelspec": {
   "display_name": "Python 3 (ipykernel)",
   "language": "python",
   "name": "python3"
  },
  "language_info": {
   "codemirror_mode": {
    "name": "ipython",
    "version": 3
   },
   "file_extension": ".py",
   "mimetype": "text/x-python",
   "name": "python",
   "nbconvert_exporter": "python",
   "pygments_lexer": "ipython3",
   "version": "3.9.12"
  }
 },
 "nbformat": 4,
 "nbformat_minor": 5
}
