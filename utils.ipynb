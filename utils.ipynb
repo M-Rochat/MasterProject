{
 "cells": [
  {
   "cell_type": "code",
   "execution_count": 6,
   "id": "98327da4-e448-4d0b-95da-5ab8423017d2",
   "metadata": {},
   "outputs": [
    {
     "name": "stdout",
     "output_type": "stream",
     "text": [
      "& 0.392 & 0.263 & 0.087 & 0.027 & 0.174 & 0.072 & 0.052 & 0.014 \\\\ \n",
      "& 0.351 & 0.205 & 0.472 & 0.270 & 0.167 & 0.071 & 0.059 & 0.017 \\\\ \n",
      "& 0.224 & 0.103 & 0.164 & 0.087 & 0.382 & 0.256 & 0.073 & 0.030 \\\\ \n",
      "& 0.009 & 0.000 & 0.048 & 0.029 & 0.064 & 0.049 & 0.266 & 0.132 \\\\ \n",
      "\n"
     ]
    }
   ],
   "source": [
    "path='incremental'\n",
    "key_to_keep = ['blue-1', 'bleu']\n",
    "\n",
    "output=''\n",
    "f = open(f'{path}/results.txt', \"r\")\n",
    "for index, line in enumerate(f):\n",
    "    if index%2==1:\n",
    "        dic=eval(line)\n",
    "        keys_copy=list(dic.keys())\n",
    "\n",
    "        for k in keys_copy:\n",
    "            if k in key_to_keep:\n",
    "                dic[k]=f'{dic[k]:.3f}'\n",
    "            else:\n",
    "                del dic[k]\n",
    "        for k in key_to_keep:\n",
    "            output += f'& {dic[k]} '\n",
    "    if index%8==7:\n",
    "        output+='\\\\\\\\ \\n'\n",
    "f.close()  \n",
    "print(output)"
   ]
  },
  {
   "cell_type": "code",
   "execution_count": null,
   "id": "62397620-1ebd-4437-9aa7-7d2d36184f4f",
   "metadata": {},
   "outputs": [],
   "source": []
  }
 ],
 "metadata": {
  "kernelspec": {
   "display_name": "Python 3 (ipykernel)",
   "language": "python",
   "name": "python3"
  },
  "language_info": {
   "codemirror_mode": {
    "name": "ipython",
    "version": 3
   },
   "file_extension": ".py",
   "mimetype": "text/x-python",
   "name": "python",
   "nbconvert_exporter": "python",
   "pygments_lexer": "ipython3",
   "version": "3.9.12"
  }
 },
 "nbformat": 4,
 "nbformat_minor": 5
}
