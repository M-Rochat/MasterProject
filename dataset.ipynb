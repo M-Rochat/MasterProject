{
 "cells": [
  {
   "cell_type": "code",
   "execution_count": 10,
   "id": "c497dc31-ff49-4f21-ac90-8a1e5c48219d",
   "metadata": {},
   "outputs": [],
   "source": [
    "import pandas as pd\n",
    "        "
   ]
  },
  {
   "cell_type": "code",
   "execution_count": null,
   "id": "4b260327-f196-42d6-9cda-322883129503",
   "metadata": {},
   "outputs": [],
   "source": []
  },
  {
   "cell_type": "code",
   "execution_count": 15,
   "id": "86f71bc4-282b-49a6-adb5-267ddb020b41",
   "metadata": {},
   "outputs": [],
   "source": [
    "from dataset_utils import cleanup\n",
    "dataset_dir='dataset/'\n",
    "modifed_dataset_dir = 'modified_dataset_dir/'\n",
    "splits= ('train', 'test', 'dev')\n",
    "df={}\n",
    "    \n",
    "for split_name in splits:\n",
    "    load_path = dataset_dir + split_name + \".tsv\"\n",
    "    save_path = modified_dataset_dir + split_name + '.tsv'\n",
    "    df[split_name] = pd.read_csv(load_path, sep='\\t', names=[\"head\", \"relation\", \"tail\"])\n",
    "    df[split_name] = cleanup(df[split_name])\n",
    "    df[split_name].to_csv(save_path, index=None, sep='\\t')\n",
    "\n",
    "    \n"
   ]
  },
  {
   "cell_type": "code",
   "execution_count": 5,
   "id": "b1cd816b-5adc-415c-bac8-56134b68af5b",
   "metadata": {},
   "outputs": [
    {
     "data": {
      "text/plain": [
       "dict_values([['ObjectUse', 'CapableOf', 'MadeUpOf', 'HasProperty', 'Desires', 'NotDesires', 'AtLocation'], ['Causes', 'HinderedBy', 'xReason', 'isAfter', 'isBefore', 'HasSubEvent', 'isFilledBy'], ['xIntent', 'xNeed', 'xWant', 'oWant'], ['xReact', 'oReact', 'xAttr', 'xEffect', 'oEffect']])"
      ]
     },
     "execution_count": 5,
     "metadata": {},
     "output_type": "execute_result"
    }
   ],
   "source": [
    "relations = {\"Physical-Entities\": [\"ObjectUse\", \"CapableOf\", \"MadeUpOf\", \"HasProperty\", \"Desires\", \"NotDesires\",\n",
    "                                           \"AtLocation\"],\n",
    "                     \"Event-Centered\": [\"Causes\", \"HinderedBy\", \"xReason\", \"isAfter\", \"isBefore\", \"HasSubEvent\",\n",
    "                                        \"isFilledBy\"],\n",
    "                     \"Social-Interaction-Intent\": [\"xIntent\", \"xNeed\", \"xWant\", \"oWant\"],\n",
    "             \"Social-Interaction-Descriptive\": [\"xReact\", \"oReact\", \"xAttr\", \"xEffect\",\"oEffect\"]\n",
    "            }\n",
    "df['test']\n",
    "relations.values()"
   ]
  },
  {
   "cell_type": "code",
   "execution_count": 22,
   "id": "75143b6b-bba6-4808-990c-732c0682c8b4",
   "metadata": {},
   "outputs": [
    {
     "name": "stderr",
     "output_type": "stream",
     "text": [
      "C:\\Users\\Mathieu\\AppData\\Local\\Temp\\ipykernel_4552\\3147210776.py:6: SettingWithCopyWarning: \n",
      "A value is trying to be set on a copy of a slice from a DataFrame\n",
      "\n",
      "See the caveats in the documentation: https://pandas.pydata.org/pandas-docs/stable/user_guide/indexing.html#returning-a-view-versus-a-copy\n",
      "  new_df_test.drop(columns=\"relation\", inplace=True)\n",
      "C:\\Users\\Mathieu\\AppData\\Local\\Temp\\ipykernel_4552\\3147210776.py:6: SettingWithCopyWarning: \n",
      "A value is trying to be set on a copy of a slice from a DataFrame\n",
      "\n",
      "See the caveats in the documentation: https://pandas.pydata.org/pandas-docs/stable/user_guide/indexing.html#returning-a-view-versus-a-copy\n",
      "  new_df_test.drop(columns=\"relation\", inplace=True)\n",
      "C:\\Users\\Mathieu\\AppData\\Local\\Temp\\ipykernel_4552\\3147210776.py:6: SettingWithCopyWarning: \n",
      "A value is trying to be set on a copy of a slice from a DataFrame\n",
      "\n",
      "See the caveats in the documentation: https://pandas.pydata.org/pandas-docs/stable/user_guide/indexing.html#returning-a-view-versus-a-copy\n",
      "  new_df_test.drop(columns=\"relation\", inplace=True)\n",
      "C:\\Users\\Mathieu\\AppData\\Local\\Temp\\ipykernel_4552\\3147210776.py:6: SettingWithCopyWarning: \n",
      "A value is trying to be set on a copy of a slice from a DataFrame\n",
      "\n",
      "See the caveats in the documentation: https://pandas.pydata.org/pandas-docs/stable/user_guide/indexing.html#returning-a-view-versus-a-copy\n",
      "  new_df_test.drop(columns=\"relation\", inplace=True)\n"
     ]
    }
   ],
   "source": [
    "from dataset_utils import triplet_to_text\n",
    "df_test=df['test']\n",
    "for key,value in relations.items():\n",
    "    new_df_test = df_test.loc[df_test['relation'].isin(relations[key])]\n",
    "    new_df_test.apply(triplet_to_text, axis=\"columns\")\n",
    "    new_df_test.drop(columns=\"relation\", inplace=True)\n",
    "    new_df_test = new_df_test.sample(frac=1).reset_index(drop=True)  # shuffle the dataframe\n",
    "    new_df_test.to_csv('modified_dataset/'+key+'.tsv', index=None, sep='\\t')\n",
    "    "
   ]
  },
  {
   "cell_type": "code",
   "execution_count": null,
   "id": "30c5b91b-d330-4531-ab26-f5601967ec2d",
   "metadata": {},
   "outputs": [],
   "source": []
  }
 ],
 "metadata": {
  "kernelspec": {
   "display_name": "Python 3 (ipykernel)",
   "language": "python",
   "name": "python3"
  },
  "language_info": {
   "codemirror_mode": {
    "name": "ipython",
    "version": 3
   },
   "file_extension": ".py",
   "mimetype": "text/x-python",
   "name": "python",
   "nbconvert_exporter": "python",
   "pygments_lexer": "ipython3",
   "version": "3.9.12"
  }
 },
 "nbformat": 4,
 "nbformat_minor": 5
}
